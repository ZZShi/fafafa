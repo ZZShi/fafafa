{
 "cells": [
  {
   "cell_type": "code",
   "execution_count": 1,
   "id": "a0d6d7ea",
   "metadata": {
    "pycharm": {
     "name": "#%%\n"
    }
   },
   "outputs": [],
   "source": [
    "# 导入项目根目录，负责无法使用自定义库\n",
    "import sys\n",
    "# 获取数据源\n",
    "from core.lb import LB\n",
    "\n",
    "sys.path.append(\"./..\")"
   ]
  },
  {
   "cell_type": "code",
   "execution_count": 2,
   "outputs": [
    {
     "data": {
      "text/plain": "   timestamp  last_close   open  open_diff open_rate  close  close_diff  \\\n0 2023-01-19         NaN  377.0        NaN     0.00%  382.8         NaN   \n1 2023-01-20       382.8  390.0        7.2     1.88%  391.8         9.0   \n2 2023-01-26       391.8  400.0        8.2     2.09%  406.8        15.0   \n3 2023-01-27       406.8  410.2        3.4     0.84%  415.0         8.2   \n4 2023-01-30       415.0  407.6       -7.4    -1.78%  387.2       -27.8   \n5 2023-01-31       387.2  390.0        2.8     0.72%  382.2        -5.0   \n6 2023-02-01       382.2  385.6        3.4     0.89%  385.0         2.8   \n7 2023-02-02       385.0  389.0        4.0     1.04%  383.0        -2.0   \n8 2023-02-03       383.0  381.6       -1.4    -0.37%  385.0         2.0   \n9 2023-02-06       385.0  375.2       -9.8    -2.55%  376.8        -8.2   \n\n  close_rate   high high_rate    low low_rate    volume  \n0      0.00%  385.0     0.00%  374.6    0.00%  17351698  \n1      2.35%  392.2     2.46%  385.0    0.57%  16863710  \n2      3.83%  406.8     3.83%  398.4    1.68%  23729091  \n3      2.02%  416.6     2.41%  409.0    0.54%  18625209  \n4     -6.70%  411.0    -0.96%  384.0   -7.47%  53626689  \n5     -1.29%  397.0     2.53%  373.8   -3.46%  55756238  \n6      0.73%  387.0     1.26%  373.6   -2.25%  31418879  \n7     -0.52%  392.0     1.82%  381.2   -0.99%  23755405  \n8      0.52%  386.6     0.94%  375.4   -1.98%  25941959  \n9     -2.13%  380.0    -1.30%  368.6   -4.26%  25591052  ",
      "text/html": "<div>\n<style scoped>\n    .dataframe tbody tr th:only-of-type {\n        vertical-align: middle;\n    }\n\n    .dataframe tbody tr th {\n        vertical-align: top;\n    }\n\n    .dataframe thead th {\n        text-align: right;\n    }\n</style>\n<table border=\"1\" class=\"dataframe\">\n  <thead>\n    <tr style=\"text-align: right;\">\n      <th></th>\n      <th>timestamp</th>\n      <th>last_close</th>\n      <th>open</th>\n      <th>open_diff</th>\n      <th>open_rate</th>\n      <th>close</th>\n      <th>close_diff</th>\n      <th>close_rate</th>\n      <th>high</th>\n      <th>high_rate</th>\n      <th>low</th>\n      <th>low_rate</th>\n      <th>volume</th>\n    </tr>\n  </thead>\n  <tbody>\n    <tr>\n      <th>0</th>\n      <td>2023-01-19</td>\n      <td>NaN</td>\n      <td>377.0</td>\n      <td>NaN</td>\n      <td>0.00%</td>\n      <td>382.8</td>\n      <td>NaN</td>\n      <td>0.00%</td>\n      <td>385.0</td>\n      <td>0.00%</td>\n      <td>374.6</td>\n      <td>0.00%</td>\n      <td>17351698</td>\n    </tr>\n    <tr>\n      <th>1</th>\n      <td>2023-01-20</td>\n      <td>382.8</td>\n      <td>390.0</td>\n      <td>7.2</td>\n      <td>1.88%</td>\n      <td>391.8</td>\n      <td>9.0</td>\n      <td>2.35%</td>\n      <td>392.2</td>\n      <td>2.46%</td>\n      <td>385.0</td>\n      <td>0.57%</td>\n      <td>16863710</td>\n    </tr>\n    <tr>\n      <th>2</th>\n      <td>2023-01-26</td>\n      <td>391.8</td>\n      <td>400.0</td>\n      <td>8.2</td>\n      <td>2.09%</td>\n      <td>406.8</td>\n      <td>15.0</td>\n      <td>3.83%</td>\n      <td>406.8</td>\n      <td>3.83%</td>\n      <td>398.4</td>\n      <td>1.68%</td>\n      <td>23729091</td>\n    </tr>\n    <tr>\n      <th>3</th>\n      <td>2023-01-27</td>\n      <td>406.8</td>\n      <td>410.2</td>\n      <td>3.4</td>\n      <td>0.84%</td>\n      <td>415.0</td>\n      <td>8.2</td>\n      <td>2.02%</td>\n      <td>416.6</td>\n      <td>2.41%</td>\n      <td>409.0</td>\n      <td>0.54%</td>\n      <td>18625209</td>\n    </tr>\n    <tr>\n      <th>4</th>\n      <td>2023-01-30</td>\n      <td>415.0</td>\n      <td>407.6</td>\n      <td>-7.4</td>\n      <td>-1.78%</td>\n      <td>387.2</td>\n      <td>-27.8</td>\n      <td>-6.70%</td>\n      <td>411.0</td>\n      <td>-0.96%</td>\n      <td>384.0</td>\n      <td>-7.47%</td>\n      <td>53626689</td>\n    </tr>\n    <tr>\n      <th>5</th>\n      <td>2023-01-31</td>\n      <td>387.2</td>\n      <td>390.0</td>\n      <td>2.8</td>\n      <td>0.72%</td>\n      <td>382.2</td>\n      <td>-5.0</td>\n      <td>-1.29%</td>\n      <td>397.0</td>\n      <td>2.53%</td>\n      <td>373.8</td>\n      <td>-3.46%</td>\n      <td>55756238</td>\n    </tr>\n    <tr>\n      <th>6</th>\n      <td>2023-02-01</td>\n      <td>382.2</td>\n      <td>385.6</td>\n      <td>3.4</td>\n      <td>0.89%</td>\n      <td>385.0</td>\n      <td>2.8</td>\n      <td>0.73%</td>\n      <td>387.0</td>\n      <td>1.26%</td>\n      <td>373.6</td>\n      <td>-2.25%</td>\n      <td>31418879</td>\n    </tr>\n    <tr>\n      <th>7</th>\n      <td>2023-02-02</td>\n      <td>385.0</td>\n      <td>389.0</td>\n      <td>4.0</td>\n      <td>1.04%</td>\n      <td>383.0</td>\n      <td>-2.0</td>\n      <td>-0.52%</td>\n      <td>392.0</td>\n      <td>1.82%</td>\n      <td>381.2</td>\n      <td>-0.99%</td>\n      <td>23755405</td>\n    </tr>\n    <tr>\n      <th>8</th>\n      <td>2023-02-03</td>\n      <td>383.0</td>\n      <td>381.6</td>\n      <td>-1.4</td>\n      <td>-0.37%</td>\n      <td>385.0</td>\n      <td>2.0</td>\n      <td>0.52%</td>\n      <td>386.6</td>\n      <td>0.94%</td>\n      <td>375.4</td>\n      <td>-1.98%</td>\n      <td>25941959</td>\n    </tr>\n    <tr>\n      <th>9</th>\n      <td>2023-02-06</td>\n      <td>385.0</td>\n      <td>375.2</td>\n      <td>-9.8</td>\n      <td>-2.55%</td>\n      <td>376.8</td>\n      <td>-8.2</td>\n      <td>-2.13%</td>\n      <td>380.0</td>\n      <td>-1.30%</td>\n      <td>368.6</td>\n      <td>-4.26%</td>\n      <td>25591052</td>\n    </tr>\n  </tbody>\n</table>\n</div>"
     },
     "execution_count": 2,
     "metadata": {},
     "output_type": "execute_result"
    }
   ],
   "source": [
    "lb = LB()\n",
    "df = lb.k_line(\"00700.HK\", count=10)\n",
    "df"
   ],
   "metadata": {
    "collapsed": false,
    "pycharm": {
     "name": "#%%\n"
    }
   }
  },
  {
   "cell_type": "markdown",
   "source": [],
   "metadata": {
    "collapsed": false,
    "pycharm": {
     "name": "#%% md\n"
    }
   }
  },
  {
   "cell_type": "code",
   "execution_count": 3,
   "outputs": [
    {
     "data": {
      "text/plain": "   timestamp  last_close   open  open_diff open_rate  close  close_diff  \\\n3 2023-01-27       406.8  410.2        3.4     0.84%  415.0         8.2   \n\n  close_rate   high high_rate    low low_rate    volume  \n3      2.02%  416.6     2.41%  409.0    0.54%  18625209  ",
      "text/html": "<div>\n<style scoped>\n    .dataframe tbody tr th:only-of-type {\n        vertical-align: middle;\n    }\n\n    .dataframe tbody tr th {\n        vertical-align: top;\n    }\n\n    .dataframe thead th {\n        text-align: right;\n    }\n</style>\n<table border=\"1\" class=\"dataframe\">\n  <thead>\n    <tr style=\"text-align: right;\">\n      <th></th>\n      <th>timestamp</th>\n      <th>last_close</th>\n      <th>open</th>\n      <th>open_diff</th>\n      <th>open_rate</th>\n      <th>close</th>\n      <th>close_diff</th>\n      <th>close_rate</th>\n      <th>high</th>\n      <th>high_rate</th>\n      <th>low</th>\n      <th>low_rate</th>\n      <th>volume</th>\n    </tr>\n  </thead>\n  <tbody>\n    <tr>\n      <th>3</th>\n      <td>2023-01-27</td>\n      <td>406.8</td>\n      <td>410.2</td>\n      <td>3.4</td>\n      <td>0.84%</td>\n      <td>415.0</td>\n      <td>8.2</td>\n      <td>2.02%</td>\n      <td>416.6</td>\n      <td>2.41%</td>\n      <td>409.0</td>\n      <td>0.54%</td>\n      <td>18625209</td>\n    </tr>\n  </tbody>\n</table>\n</div>"
     },
     "execution_count": 3,
     "metadata": {},
     "output_type": "execute_result"
    }
   ],
   "source": [
    "df.loc[[df[\"high\"].idxmax()]]"
   ],
   "metadata": {
    "collapsed": false,
    "pycharm": {
     "name": "#%%\n"
    }
   }
  },
  {
   "cell_type": "markdown",
   "source": [
    "### 涨幅最高"
   ],
   "metadata": {
    "collapsed": false
   }
  },
  {
   "cell_type": "code",
   "execution_count": 4,
   "outputs": [
    {
     "data": {
      "text/plain": "   timestamp  last_close   open  open_diff open_rate  close  close_diff  \\\n2 2023-01-26       391.8  400.0        8.2     2.09%  406.8        15.0   \n\n  close_rate   high high_rate    low low_rate    volume  \n2      3.83%  406.8     3.83%  398.4    1.68%  23729091  ",
      "text/html": "<div>\n<style scoped>\n    .dataframe tbody tr th:only-of-type {\n        vertical-align: middle;\n    }\n\n    .dataframe tbody tr th {\n        vertical-align: top;\n    }\n\n    .dataframe thead th {\n        text-align: right;\n    }\n</style>\n<table border=\"1\" class=\"dataframe\">\n  <thead>\n    <tr style=\"text-align: right;\">\n      <th></th>\n      <th>timestamp</th>\n      <th>last_close</th>\n      <th>open</th>\n      <th>open_diff</th>\n      <th>open_rate</th>\n      <th>close</th>\n      <th>close_diff</th>\n      <th>close_rate</th>\n      <th>high</th>\n      <th>high_rate</th>\n      <th>low</th>\n      <th>low_rate</th>\n      <th>volume</th>\n    </tr>\n  </thead>\n  <tbody>\n    <tr>\n      <th>2</th>\n      <td>2023-01-26</td>\n      <td>391.8</td>\n      <td>400.0</td>\n      <td>8.2</td>\n      <td>2.09%</td>\n      <td>406.8</td>\n      <td>15.0</td>\n      <td>3.83%</td>\n      <td>406.8</td>\n      <td>3.83%</td>\n      <td>398.4</td>\n      <td>1.68%</td>\n      <td>23729091</td>\n    </tr>\n  </tbody>\n</table>\n</div>"
     },
     "execution_count": 4,
     "metadata": {},
     "output_type": "execute_result"
    }
   ],
   "source": [
    "df.loc[[df[\"high_rate\"].map(lambda x: x.replace(\"%\", \"\")).astype(float).idxmax()]]"
   ],
   "metadata": {
    "collapsed": false,
    "pycharm": {
     "name": "#%%\n"
    }
   }
  },
  {
   "cell_type": "markdown",
   "source": [
    "### 股价最低"
   ],
   "metadata": {
    "collapsed": false,
    "pycharm": {
     "name": "#%% md\n"
    }
   }
  },
  {
   "cell_type": "code",
   "execution_count": 5,
   "outputs": [
    {
     "data": {
      "text/plain": "   timestamp  last_close   open  open_diff open_rate  close  close_diff  \\\n9 2023-02-06       385.0  375.2       -9.8    -2.55%  376.8        -8.2   \n\n  close_rate   high high_rate    low low_rate    volume  \n9     -2.13%  380.0    -1.30%  368.6   -4.26%  25591052  ",
      "text/html": "<div>\n<style scoped>\n    .dataframe tbody tr th:only-of-type {\n        vertical-align: middle;\n    }\n\n    .dataframe tbody tr th {\n        vertical-align: top;\n    }\n\n    .dataframe thead th {\n        text-align: right;\n    }\n</style>\n<table border=\"1\" class=\"dataframe\">\n  <thead>\n    <tr style=\"text-align: right;\">\n      <th></th>\n      <th>timestamp</th>\n      <th>last_close</th>\n      <th>open</th>\n      <th>open_diff</th>\n      <th>open_rate</th>\n      <th>close</th>\n      <th>close_diff</th>\n      <th>close_rate</th>\n      <th>high</th>\n      <th>high_rate</th>\n      <th>low</th>\n      <th>low_rate</th>\n      <th>volume</th>\n    </tr>\n  </thead>\n  <tbody>\n    <tr>\n      <th>9</th>\n      <td>2023-02-06</td>\n      <td>385.0</td>\n      <td>375.2</td>\n      <td>-9.8</td>\n      <td>-2.55%</td>\n      <td>376.8</td>\n      <td>-8.2</td>\n      <td>-2.13%</td>\n      <td>380.0</td>\n      <td>-1.30%</td>\n      <td>368.6</td>\n      <td>-4.26%</td>\n      <td>25591052</td>\n    </tr>\n  </tbody>\n</table>\n</div>"
     },
     "execution_count": 5,
     "metadata": {},
     "output_type": "execute_result"
    }
   ],
   "source": [
    "df.loc[[df[\"low\"].idxmin()]]"
   ],
   "metadata": {
    "collapsed": false,
    "pycharm": {
     "name": "#%%\n"
    }
   }
  },
  {
   "cell_type": "markdown",
   "source": [
    "### 跌幅最高"
   ],
   "metadata": {
    "collapsed": false,
    "pycharm": {
     "name": "#%% md\n"
    }
   }
  },
  {
   "cell_type": "code",
   "execution_count": 6,
   "outputs": [
    {
     "data": {
      "text/plain": "   timestamp  last_close   open  open_diff open_rate  close  close_diff  \\\n4 2023-01-30       415.0  407.6       -7.4    -1.78%  387.2       -27.8   \n\n  close_rate   high high_rate    low low_rate    volume  \n4     -6.70%  411.0    -0.96%  384.0   -7.47%  53626689  ",
      "text/html": "<div>\n<style scoped>\n    .dataframe tbody tr th:only-of-type {\n        vertical-align: middle;\n    }\n\n    .dataframe tbody tr th {\n        vertical-align: top;\n    }\n\n    .dataframe thead th {\n        text-align: right;\n    }\n</style>\n<table border=\"1\" class=\"dataframe\">\n  <thead>\n    <tr style=\"text-align: right;\">\n      <th></th>\n      <th>timestamp</th>\n      <th>last_close</th>\n      <th>open</th>\n      <th>open_diff</th>\n      <th>open_rate</th>\n      <th>close</th>\n      <th>close_diff</th>\n      <th>close_rate</th>\n      <th>high</th>\n      <th>high_rate</th>\n      <th>low</th>\n      <th>low_rate</th>\n      <th>volume</th>\n    </tr>\n  </thead>\n  <tbody>\n    <tr>\n      <th>4</th>\n      <td>2023-01-30</td>\n      <td>415.0</td>\n      <td>407.6</td>\n      <td>-7.4</td>\n      <td>-1.78%</td>\n      <td>387.2</td>\n      <td>-27.8</td>\n      <td>-6.70%</td>\n      <td>411.0</td>\n      <td>-0.96%</td>\n      <td>384.0</td>\n      <td>-7.47%</td>\n      <td>53626689</td>\n    </tr>\n  </tbody>\n</table>\n</div>"
     },
     "execution_count": 6,
     "metadata": {},
     "output_type": "execute_result"
    }
   ],
   "source": [
    "df.loc[[df[\"low_rate\"].map(lambda x: x.replace(\"%\", \"\")).astype(float).idxmin()]]"
   ],
   "metadata": {
    "collapsed": false,
    "pycharm": {
     "name": "#%%\n"
    }
   }
  },
  {
   "cell_type": "code",
   "execution_count": 7,
   "outputs": [],
   "source": [
    "lb.show_k_line(df)\n"
   ],
   "metadata": {
    "collapsed": false,
    "pycharm": {
     "name": "#%%\n"
    }
   }
  },
  {
   "cell_type": "code",
   "execution_count": 7,
   "outputs": [],
   "source": [],
   "metadata": {
    "collapsed": false,
    "pycharm": {
     "name": "#%%\n"
    }
   }
  }
 ],
 "metadata": {
  "kernelspec": {
   "display_name": "Python 3 (ipykernel)",
   "language": "python",
   "name": "python3"
  },
  "language_info": {
   "codemirror_mode": {
    "name": "ipython",
    "version": 3
   },
   "file_extension": ".py",
   "mimetype": "text/x-python",
   "name": "python",
   "nbconvert_exporter": "python",
   "pygments_lexer": "ipython3",
   "version": "3.9.13"
  }
 },
 "nbformat": 4,
 "nbformat_minor": 5
}